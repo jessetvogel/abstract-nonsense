{
 "cells": [
  {
   "cell_type": "code",
   "execution_count": 1,
   "metadata": {},
   "outputs": [],
   "source": [
    "import sys\n",
    "from core import *\n",
    "from parser import *"
   ]
  },
  {
   "cell_type": "code",
   "execution_count": 41,
   "metadata": {},
   "outputs": [],
   "source": [
    "class Mapper:\n",
    "    \n",
    "    def __init__(self, context, target):\n",
    "        self.context = context\n",
    "        self.target = target\n",
    "        self.mapping = {}\n",
    "        self.options = [{}]\n",
    "        \n",
    "    def combine_mappings(self, A, B):\n",
    "        C = A.copy()\n",
    "        for x in B:\n",
    "            if x in A and A[x] != B[x]:\n",
    "                return None\n",
    "            C[x] = B[x]\n",
    "        return C\n",
    "    \n",
    "    def combine_lists_of_options(self, options_A, options_B):\n",
    "        options = []\n",
    "        for B in options_B:\n",
    "            for A in options_A:\n",
    "                C = self.combine_mappings(A, B)\n",
    "                if C != None and C not in options:\n",
    "                    options.append(C)\n",
    "        \n",
    "        return options\n",
    "        \n",
    "    # Find all possible ways in which x could equal y\n",
    "    def find_consequences(self, x, y):\n",
    "        if x in self.context.data:\n",
    "            return [{}]\n",
    "        \n",
    "        reps_x = [ r for r in self.context.representations if r.ptr == x ]\n",
    "        reps_y = [ r for r in self.target.representations if r.ptr == y ]\n",
    "        \n",
    "        options = []\n",
    "        for r_x in reps_x:\n",
    "            for r_y in reps_y:\n",
    "                m = self.reps_match_consequences(r_x, r_y)\n",
    "                if m != None and m not in options:\n",
    "                    options.append(m)\n",
    "        \n",
    "        return options\n",
    "    \n",
    "    # Returns what the consequence is if r_x matches r_y\n",
    "    def reps_match_consequences(self, r_x, r_y):\n",
    "        if type(r_x) != type(r_y):\n",
    "            return None\n",
    "        \n",
    "        if isinstance(r_x, Repr_Property):\n",
    "            if r_x.prop != r_y.prop:\n",
    "                return False\n",
    "\n",
    "        m = {}\n",
    "        r_x_deps = r_x.dependencies()\n",
    "        r_y_deps = r_y.dependencies()\n",
    "        \n",
    "        for u, v in zip(r_x_deps, r_y_deps):\n",
    "            if self.context.owns(u):\n",
    "                m[u] = v\n",
    "                \n",
    "        return m\n",
    "    \n",
    "    def mapping_set_multiple(self, M):\n",
    "        for x in M:\n",
    "            if not self.mapping_set(x, M[x]):\n",
    "                return False\n",
    "        return True\n",
    "    \n",
    "    def mapping_set(self, x, y):\n",
    "#         print('Want to map {} --> {}'.format(self.context.str_x(x), self.target.str_x(y)))\n",
    "        \n",
    "        # If x was already mapped, make sure it was mapped to y\n",
    "        if x in self.mapping:\n",
    "            return self.mapping[x] == y\n",
    "        \n",
    "        self.mapping[x] = y\n",
    "        \n",
    "        # Induced mapping for category, domain, codomain (that is, if they need to be mapped)\n",
    "        if self.context.owns(x.category) and not self.mapping_set(x.category, y.category):\n",
    "            return False\n",
    "        \n",
    "        if not x.is_object():\n",
    "            if self.context.owns(x.domain) and not self.mapping_set(x.domain, y.domain):\n",
    "                return False\n",
    "\n",
    "            if self.context.owns(x.codomain) and not self.mapping_set(x.codomain, y.codomain):\n",
    "                return False\n",
    "        \n",
    "        # If x is data, stop here. TODO: maybe already map everything that depends on what is currently mapped\n",
    "        if x in self.context.data:\n",
    "            return True\n",
    "                \n",
    "        # See what the consequences are from mapping x to y\n",
    "        x_options = self.find_consequences(x, y)\n",
    "        \n",
    "        # If there is just one x_option, immediately update mapping\n",
    "        if len(x_options) == 1:            \n",
    "            if not self.mapping_set_multiple(x_options[0]):\n",
    "                return False\n",
    "        \n",
    "        # Combine old options with the new options\n",
    "        self.options = self.combine_lists_of_options(self.options, x_options)\n",
    "                        \n",
    "        # If there are no options, return False\n",
    "        if not self.options:\n",
    "            return False\n",
    "        \n",
    "        # Again, if there is just one option, immediately update mapping\n",
    "        if len(self.options) == 1:\n",
    "            if not self.mapping_set_multiple(self.options[0]):\n",
    "                return False\n",
    "                \n",
    "            # Also reset options\n",
    "            self.options = [{}]\n",
    "            \n",
    "        return True\n",
    "    \n",
    "    def validate(self):\n",
    "        # All data must be mapped\n",
    "        if any(x not in self.mapping for x in self.context.data):\n",
    "#             print('Not all data is mapped yet!')\n",
    "            return False\n",
    "        \n",
    "        # Check if all representations are well-mapped (possibly extend if not yet done)\n",
    "        r_todo = self.context.representations.copy()\n",
    "        updates = True\n",
    "        while updates:\n",
    "            updates = False\n",
    "            r_done = []\n",
    "            for r in r_todo:\n",
    "                # If r is a representation of some datum, nothing to check\n",
    "                if r.ptr in self.context.data:\n",
    "                    r_done.append(r)\n",
    "                    continue\n",
    "                    \n",
    "                # Can only extend the mapping to r if all its dependencies are already mapped\n",
    "                if any(x not in self.mapping and self.context.owns(x) for x in r.dependencies()):\n",
    "                    continue\n",
    "                \n",
    "                y = self.target.create_from_placeholders(r, self.mapping)\n",
    "\n",
    "                # If r.ptr was already mapped to something other than y, return False\n",
    "                if r.ptr in self.mapping and self.mapping[r.ptr] != y:\n",
    "#                     print('Unsure about mapping of {}: either {} or {}'.format(self.context.str_x(r.ptr), self.target.str_x(self.mapping[r.ptr]), self.target_str_x(y)))\n",
    "                    return False\n",
    "                \n",
    "                self.mapping[r.ptr] = y\n",
    "                r_done.append(r)\n",
    "                updates = True\n",
    "            \n",
    "            r_todo = [ r for r in r_todo if r not in r_done ]\n",
    "        \n",
    "        # At this point, everything is well-mapped!\n",
    "            \n",
    "        # Now, verify the conditions\n",
    "        for C in self.context.conditions:\n",
    "            if not self.target.has_instance_of(self.mapping[C]):\n",
    "#                 print('Condition {} could not be verified!'.format(self.context.str_x(C)))\n",
    "                return False\n",
    "                \n",
    "        # Done\n",
    "        return True\n",
    "    \n",
    "    def find_candidates(self, x):\n",
    "        C = self.mapping[x.category] if x.category in self.mapping else x.category\n",
    "        if x.is_object():\n",
    "            # Objects must be mapped to objects\n",
    "#             print('Look for objects in category {}'.format(self.target.str_x(C)))\n",
    "            return [ y for y in self.target.morphisms if y.is_object() and y.category == C ]\n",
    "        else:\n",
    "            candidates = [ y for y in self.target.morphisms if y.category == C ]\n",
    "\n",
    "            dom = (self.mapping[x.domain] if x.domain in self.mapping else None) if self.context.owns(x.domain) else x.domain\n",
    "            cod = (self.mapping[x.codomain] if x.codomain in self.mapping else None) if self.context.owns(x.codomain) else x.codomain\n",
    "\n",
    "            if dom != None:\n",
    "                candidates = [ y for y in candidates if y.domain == dom ]\n",
    "            if cod != None:\n",
    "                candidates = [ y for y in candidates if y.codomain == cod ]\n",
    "\n",
    "            return candidates\n",
    "    \n",
    "    def find_mapping(self):\n",
    "        # Consider first datum x which is not yet mapped\n",
    "        for x in self.context.data:\n",
    "            if x in self.mapping:\n",
    "                continue\n",
    "                \n",
    "            # Find candidates y for x\n",
    "            candidates = self.find_candidates(x)\n",
    "            \n",
    "            # If there are no candidates, return False\n",
    "            if not candidates:\n",
    "#                 print('No candidates found for {}'.format(self.context.str_x(x)))\n",
    "                return False\n",
    "            \n",
    "            # If there is just one candidate, must use that one\n",
    "            if len(candidates) == 1:\n",
    "                if not self.mapping_set(x, candidates[0]):\n",
    "                    return False\n",
    "                continue\n",
    "            \n",
    "            # Branch out?\n",
    "            for y in candidates:\n",
    "                M = Mapper(self.context, self.target)\n",
    "                M.mapping = self.mapping.copy()\n",
    "                M.mapping_set(x, y)\n",
    "                if M.find_mapping():\n",
    "                    self.mapping.update(M.mapping)\n",
    "                    return True\n",
    "            \n",
    "            # If none of the candidates worked, return False\n",
    "            return False\n",
    "        \n",
    "        # If all data was mapped, it is only left to validate the mapping\n",
    "        return self.validate()"
   ]
  },
  {
   "cell_type": "code",
   "execution_count": null,
   "metadata": {},
   "outputs": [],
   "source": []
  },
  {
   "cell_type": "code",
   "execution_count": null,
   "metadata": {},
   "outputs": [],
   "source": []
  },
  {
   "cell_type": "code",
   "execution_count": 31,
   "metadata": {},
   "outputs": [],
   "source": [
    "G = recreate_global_diagram()\n",
    "\n",
    "stream = Stream(open('/Users/jessetvogel/Projects/abstract-nonsense/math/example_theorems.txt'))\n",
    "lexer = Lexer(stream)\n",
    "parser = Parser(lexer)\n",
    "parser.book = G\n",
    "\n",
    "parser.parse()"
   ]
  },
  {
   "cell_type": "code",
   "execution_count": null,
   "metadata": {},
   "outputs": [],
   "source": []
  },
  {
   "cell_type": "code",
   "execution_count": 32,
   "metadata": {},
   "outputs": [
    {
     "data": {
      "text/plain": [
       "'{ Cat, False, True, Ring, Scheme }'"
      ]
     },
     "execution_count": 32,
     "metadata": {},
     "output_type": "execute_result"
    }
   ],
   "source": [
    "str(G)"
   ]
  },
  {
   "cell_type": "code",
   "execution_count": 33,
   "metadata": {},
   "outputs": [],
   "source": [
    "diagram = Diagram()\n",
    "diagram.add_reference(G)\n",
    "\n",
    "X = diagram.create_object(G.morphisms[4], 'X')"
   ]
  },
  {
   "cell_type": "code",
   "execution_count": 34,
   "metadata": {},
   "outputs": [],
   "source": [
    "# thm = G.theorems['affine_implies_qcompact']\n",
    "# M = Mapper(thm, diagram)\n",
    "# M.mapping_set(aff_thm_X, aff_X)"
   ]
  },
  {
   "cell_type": "code",
   "execution_count": 35,
   "metadata": {},
   "outputs": [
    {
     "data": {
      "text/plain": [
       "True"
      ]
     },
     "execution_count": 35,
     "metadata": {},
     "output_type": "execute_result"
    }
   ],
   "source": [
    "thm = G.theorems['src_target']\n",
    "M = Mapper(thm, diagram)\n",
    "M.mapping_set(thm.morphisms[1], X)"
   ]
  },
  {
   "cell_type": "code",
   "execution_count": 37,
   "metadata": {},
   "outputs": [
    {
     "name": "stdout",
     "output_type": "stream",
     "text": [
      "Y --> X\n"
     ]
    }
   ],
   "source": [
    "for x in M.mapping:\n",
    "    print('{} --> {}'.format(thm.str_x(x), diagram.str_x(M.mapping[x])))"
   ]
  },
  {
   "cell_type": "code",
   "execution_count": 39,
   "metadata": {},
   "outputs": [
    {
     "data": {
      "text/plain": [
       "True"
      ]
     },
     "execution_count": 39,
     "metadata": {},
     "output_type": "execute_result"
    }
   ],
   "source": [
    "M.find_mapping()"
   ]
  },
  {
   "cell_type": "code",
   "execution_count": 40,
   "metadata": {},
   "outputs": [
    {
     "name": "stdout",
     "output_type": "stream",
     "text": [
      "Y --> X\n",
      "X --> X\n",
      "f --> X\n"
     ]
    }
   ],
   "source": [
    "for x in M.mapping:\n",
    "    print('{} --> {}'.format(thm.str_x(x), diagram.str_x(M.mapping[x])))"
   ]
  },
  {
   "cell_type": "code",
   "execution_count": null,
   "metadata": {},
   "outputs": [],
   "source": []
  },
  {
   "cell_type": "code",
   "execution_count": null,
   "metadata": {},
   "outputs": [],
   "source": []
  },
  {
   "cell_type": "code",
   "execution_count": null,
   "metadata": {},
   "outputs": [],
   "source": []
  }
 ],
 "metadata": {
  "kernelspec": {
   "display_name": "Python 3",
   "language": "python",
   "name": "python3"
  },
  "language_info": {
   "codemirror_mode": {
    "name": "ipython",
    "version": 3
   },
   "file_extension": ".py",
   "mimetype": "text/x-python",
   "name": "python",
   "nbconvert_exporter": "python",
   "pygments_lexer": "ipython3",
   "version": "3.8.6"
  }
 },
 "nbformat": 4,
 "nbformat_minor": 4
}
