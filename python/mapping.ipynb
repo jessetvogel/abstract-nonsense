{
 "cells": [
  {
   "cell_type": "code",
   "execution_count": 13,
   "metadata": {},
   "outputs": [],
   "source": [
    "import sys\n",
    "from core import *\n",
    "from parser import *"
   ]
  },
  {
   "cell_type": "code",
   "execution_count": 176,
   "metadata": {},
   "outputs": [],
   "source": [
    "class Mapper:\n",
    "    \n",
    "    def __init__(self, context, diagram):\n",
    "        self.context = context\n",
    "        self.diagram = diagram\n",
    "        self.mapping = {}\n",
    "        self.options = [{}]\n",
    "        \n",
    "    def combine_mappings(self, A, B):\n",
    "        C = A.copy()\n",
    "        for x in B:\n",
    "            if x in A and A[x] != B[x]:\n",
    "                return None\n",
    "            C[x] = B[x]\n",
    "        return C\n",
    "    \n",
    "    def combine_lists_of_options(self, options_A, options_B):\n",
    "        options = []\n",
    "        for B in options_B:\n",
    "            for A in options_A:\n",
    "                C = self.combine_mappings(A, B)\n",
    "                if C != None:\n",
    "                    options.append(C)\n",
    "        \n",
    "        # remove duplicates ?\n",
    "        return options\n",
    "        \n",
    "    # Find all possible ways in which x could equal y\n",
    "    def find_consequences(self, x, y):\n",
    "        if x in self.context.data:\n",
    "            return [{}]\n",
    "        \n",
    "        reps_x = [ r for r in self.context.representations if r.ptr == x ]\n",
    "        reps_y = [ r for r in self.diagram.representations if r.ptr == y ]\n",
    "        \n",
    "        options = []\n",
    "        for r_x in reps_x:\n",
    "            for r_y in reps_y:\n",
    "                m = self.reps_match_consequences(r_x, r_y)\n",
    "                if m != None:\n",
    "                    options.append(m)\n",
    "                    \n",
    "        # remove duplicate options ?\n",
    "        return options\n",
    "    \n",
    "    # Returns what the consequence is if r_x matches r_y\n",
    "    def reps_match_consequences(self, r_x, r_y):\n",
    "        if type(r_x) != type(r_y):\n",
    "            return None\n",
    "        \n",
    "        if isinstance(r_x, Repr_Property):\n",
    "            if r_x.prop != r_y.prop:\n",
    "                return False\n",
    "\n",
    "        m = {}\n",
    "        r_x_deps = r_x.dependencies()\n",
    "        r_y_deps = r_y.dependencies()\n",
    "        \n",
    "        for u, v in zip(r_x_deps, r_y_deps):\n",
    "            if self.context.owns(u):\n",
    "                m[u] = v\n",
    "                \n",
    "        return m\n",
    "    \n",
    "    def mapping_set_multiple(self, M):\n",
    "        for x in M:\n",
    "            if not self.mapping_set(x, M[x]):\n",
    "                return False\n",
    "        return True\n",
    "    \n",
    "    def mapping_set(self, x, y):\n",
    "#         print('Want to map {} --> {}'.format(self.context.str_x(x), self.diagram.str_x(y)))\n",
    "        \n",
    "        # If x was already mapped, make sure it was mapped to y\n",
    "        if x in self.mapping:\n",
    "            return self.mapping[x] == y\n",
    "        \n",
    "        self.mapping[x] = y\n",
    "        \n",
    "        # Induced mapping for category, domain, codomain (that is, if they need to be mapped)\n",
    "        if self.context.owns(x.category) and not self.mapping_set(x.category, y.category):\n",
    "            return False\n",
    "        \n",
    "        if not x.is_object():\n",
    "            if self.context.owns(x.domain) and not self.mapping_set(x.domain, y.domain):\n",
    "                return False\n",
    "\n",
    "            if self.context.owns(x.codomain) and not self.mapping_set(x.codomain, y.codomain):\n",
    "                return False\n",
    "        \n",
    "        # See what the consequences are from mapping x to y\n",
    "        x_options = self.find_consequences(x, y)\n",
    "        \n",
    "        # If there is just one x_option, immediately update mapping\n",
    "        if len(x_options) == 1:            \n",
    "            if not self.mapping_set_multiple(x_options[0]):\n",
    "                return False\n",
    "        \n",
    "        # Combine old options with the new options\n",
    "        self.options = self.combine_lists_of_options(self.options, x_options)\n",
    "                        \n",
    "        # If there are no options, return False\n",
    "        if not self.options:\n",
    "            return False\n",
    "        \n",
    "        # Again, if there is just one option, immediately update mapping\n",
    "        if len(self.options) == 1:\n",
    "            if not self.mapping_set_multiple(self.options[0]):\n",
    "                return False\n",
    "                \n",
    "            # Also reset options\n",
    "            self.options = [{}]\n",
    "            \n",
    "        return True"
   ]
  },
  {
   "cell_type": "code",
   "execution_count": null,
   "metadata": {},
   "outputs": [],
   "source": []
  },
  {
   "cell_type": "code",
   "execution_count": 177,
   "metadata": {},
   "outputs": [
    {
     "data": {
      "text/plain": [
       "{'affine_implies_qcompact': <core.Theorem at 0x111204d90>}"
      ]
     },
     "execution_count": 177,
     "metadata": {},
     "output_type": "execute_result"
    }
   ],
   "source": [
    "G.theorems"
   ]
  },
  {
   "cell_type": "code",
   "execution_count": 178,
   "metadata": {},
   "outputs": [],
   "source": [
    "# diagram = Diagram()\n",
    "# diagram.add_reference(G)"
   ]
  },
  {
   "cell_type": "code",
   "execution_count": 182,
   "metadata": {},
   "outputs": [],
   "source": [
    "thm = G.theorems['affine_implies_qcompact']\n",
    "M = Mapper(thm, diagram)\n",
    "M.mapping_set(aff_thm_X, aff_X)"
   ]
  },
  {
   "cell_type": "code",
   "execution_count": 183,
   "metadata": {},
   "outputs": [
    {
     "data": {
      "text/plain": [
       "{}"
      ]
     },
     "execution_count": 183,
     "metadata": {},
     "output_type": "execute_result"
    }
   ],
   "source": [
    "M.mapping"
   ]
  },
  {
   "cell_type": "code",
   "execution_count": 184,
   "metadata": {},
   "outputs": [],
   "source": [
    "for x in M.mapping:\n",
    "    print('{} --> {}'.format(thm.str_x(x), diagram.str_x(M.mapping[x])))"
   ]
  },
  {
   "cell_type": "code",
   "execution_count": 105,
   "metadata": {},
   "outputs": [
    {
     "data": {
      "text/plain": [
       "{}"
      ]
     },
     "execution_count": 105,
     "metadata": {},
     "output_type": "execute_result"
    }
   ],
   "source": [
    "M.mapping"
   ]
  },
  {
   "cell_type": "code",
   "execution_count": null,
   "metadata": {},
   "outputs": [],
   "source": []
  },
  {
   "cell_type": "code",
   "execution_count": null,
   "metadata": {},
   "outputs": [],
   "source": []
  },
  {
   "cell_type": "code",
   "execution_count": null,
   "metadata": {},
   "outputs": [],
   "source": []
  },
  {
   "cell_type": "code",
   "execution_count": 33,
   "metadata": {},
   "outputs": [],
   "source": [
    "G = recreate_global_diagram()\n",
    "\n",
    "stream = Stream(open('/Users/jessetvogel/Projects/abstract-nonsense/math/example_theorems.txt'))\n",
    "lexer = Lexer(stream)\n",
    "parser = Parser(lexer)\n",
    "parser.book = G"
   ]
  },
  {
   "cell_type": "code",
   "execution_count": 34,
   "metadata": {},
   "outputs": [],
   "source": [
    "parser.parse()"
   ]
  }
 ],
 "metadata": {
  "kernelspec": {
   "display_name": "Python 3",
   "language": "python",
   "name": "python3"
  },
  "language_info": {
   "codemirror_mode": {
    "name": "ipython",
    "version": 3
   },
   "file_extension": ".py",
   "mimetype": "text/x-python",
   "name": "python",
   "nbconvert_exporter": "python",
   "pygments_lexer": "ipython3",
   "version": "3.8.3"
  }
 },
 "nbformat": 4,
 "nbformat_minor": 4
}
