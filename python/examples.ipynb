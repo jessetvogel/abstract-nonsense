{
 "cells": [
  {
   "cell_type": "code",
   "execution_count": 2,
   "metadata": {},
   "outputs": [],
   "source": [
    "from core import *"
   ]
  },
  {
   "cell_type": "code",
   "execution_count": 3,
   "metadata": {},
   "outputs": [],
   "source": [
    "global_diagram = recreate_global_diagram()\n",
    "\n",
    "# Define in global diagram\n",
    "Ring = global_diagram.create_object(Cat, 'Ring') # Ring : Cat\n",
    "Scheme = global_diagram.create_object(Cat, 'Scheme') # Scheme : Cat\n",
    "\n",
    "Spec = global_diagram.create_morphism(Ring, Scheme, 'Spec', covariant = False) # Spec : Ring ~> Scheme\n",
    "Mod = global_diagram.create_morphism(Ring, Cat, 'Mod', covariant = False) # Mod : Ring ~> Cat\n",
    "\n",
    "R = global_diagram.create_object(Ring, 'R') # R : Ring\n",
    "S = global_diagram.create_object(Ring, 'S') # S : Ring\n",
    "h = global_diagram.create_morphism(R, S, 'h') # h : R -> S\n",
    "R_Mod = global_diagram.apply_functor(Mod, R) # Mod(R)\n",
    "\n",
    "# Property affine / quasi-compact\n",
    "affine = Property('affine') # property affine {\n",
    "affine.add_reference(global_diagram)\n",
    "\n",
    "X = affine.create_object(Scheme, 'X') # given X : Scheme\n",
    "affine.add_data(X)\n",
    "# }\n",
    "\n",
    "qc = Property('quasi-compact') # property qcompact {\n",
    "qc.add_reference(global_diagram)\n",
    "\n",
    "X = qc.create_object(Scheme, 'X')\n",
    "qc.add_data(X)\n",
    "# }\n",
    "\n",
    "\n",
    "# ----\n",
    "diagram = Diagram()\n",
    "diagram.add_reference(global_diagram)\n",
    "\n",
    "X = diagram.create_object(Scheme, 'X') # let X : Scheme\n",
    "Y = diagram.create_object(Scheme, 'Y') # let Y : Scheme\n",
    "f = diagram.create_morphism(X, Y, 'f') # let f : X -> Y\n",
    "\n",
    "X_is_affine = diagram.apply_property(affine, [ X ]) # affine(X)"
   ]
  },
  {
   "cell_type": "code",
   "execution_count": 4,
   "metadata": {},
   "outputs": [
    {
     "data": {
      "text/plain": [
       "'{ X, Y, f, affine(X) }'"
      ]
     },
     "execution_count": 4,
     "metadata": {},
     "output_type": "execute_result"
    }
   ],
   "source": [
    "str(diagram)"
   ]
  },
  {
   "cell_type": "code",
   "execution_count": 5,
   "metadata": {},
   "outputs": [],
   "source": [
    "Spec_h = global_diagram.apply_functor(Spec, h)"
   ]
  },
  {
   "cell_type": "code",
   "execution_count": 6,
   "metadata": {},
   "outputs": [
    {
     "name": "stdout",
     "output_type": "stream",
     "text": [
      "R\n",
      "S\n",
      "Spec(S)\n",
      "Spec(R)\n"
     ]
    }
   ],
   "source": [
    "print(global_diagram.str_x(h.domain))\n",
    "print(global_diagram.str_x(h.codomain))\n",
    "print(global_diagram.str_x(Spec_h.domain))\n",
    "print(global_diagram.str_x(Spec_h.codomain))"
   ]
  },
  {
   "cell_type": "code",
   "execution_count": 7,
   "metadata": {},
   "outputs": [],
   "source": [
    "diagram = Diagram()\n",
    "diagram.add_reference(global_diagram)\n",
    "\n",
    "A = diagram.create_object(Ring, 'A')\n",
    "B = diagram.create_object(Ring, 'B')\n",
    "C = diagram.create_object(Ring, 'C')\n",
    "f = diagram.create_morphism(A, B, 'f')\n",
    "g = diagram.create_morphism(B, C, 'g')\n",
    "h = diagram.create_morphism(B, B, 'h')\n",
    "\n",
    "gf = diagram.create_composition([ g, h, f ])\n",
    "\n",
    "Spec_f = diagram.apply_functor(Spec, f)"
   ]
  },
  {
   "cell_type": "code",
   "execution_count": 8,
   "metadata": {},
   "outputs": [
    {
     "data": {
      "text/plain": [
       "'{ A, B, C, f, g, h, g.h.f, Spec(A), Spec(B), Spec(f) }'"
      ]
     },
     "execution_count": 8,
     "metadata": {},
     "output_type": "execute_result"
    }
   ],
   "source": [
    "str(diagram)"
   ]
  },
  {
   "cell_type": "markdown",
   "metadata": {},
   "source": [
    "### Create a theorem (affine implies quasi-compact)"
   ]
  },
  {
   "cell_type": "code",
   "execution_count": 10,
   "metadata": {},
   "outputs": [
    {
     "data": {
      "text/plain": [
       "<core.Object at 0x1060872b0>"
      ]
     },
     "execution_count": 10,
     "metadata": {},
     "output_type": "execute_result"
    }
   ],
   "source": [
    "aff_implies_qc = Theorem() # theorem aff_implies_qc {\n",
    "aff_implies_qc.add_reference(global_diagram)\n",
    "\n",
    "X = aff_implies_qc.create_object(Scheme, 'X') # given X : Scheme\n",
    "aff_implies_qc.add_data(X)\n",
    "\n",
    "X_is_affine = aff_implies_qc.apply_property(affine, [ X ]) # with affine(X)\n",
    "aff_implies_qc.add_condition(X_is_affine)\n",
    "\n",
    "X_is_qc = aff_implies_qc.conclusion.apply_property(qc, [ X ]) # then qcompact(X)\n",
    "aff_implies_qc.conclusion.create_object(X_is_qc)"
   ]
  },
  {
   "cell_type": "markdown",
   "metadata": {},
   "source": [
    "### Can we apply a theorem?"
   ]
  },
  {
   "cell_type": "code",
   "execution_count": 12,
   "metadata": {},
   "outputs": [],
   "source": [
    "diagram = Diagram()\n",
    "diagram.add_reference(global_diagram)\n",
    "\n",
    "X = diagram.create_object(Scheme, 'X') # X : Scheme\n",
    "Y = diagram.create_object(Scheme, 'Y') # Y : Scheme\n",
    "f = diagram.create_morphism(X, Y, 'f') # f : X -> Y\n",
    "\n",
    "Y_is_affine = diagram.apply_property(affine, [ Y ]) # affine(Y)\n",
    "\n",
    "h = diagram.create_object(Y_is_affine) # assume affine(Y)"
   ]
  },
  {
   "cell_type": "code",
   "execution_count": 13,
   "metadata": {},
   "outputs": [
    {
     "name": "stdout",
     "output_type": "stream",
     "text": [
      "X --> Y\n",
      "affine(X) --> affine(Y)\n"
     ]
    }
   ],
   "source": [
    "mapping = {}\n",
    "if aff_implies_qc.try_apply(diagram, mapping):\n",
    "    for entry in mapping.items():\n",
    "        print('{} --> {}'.format(aff_implies_qc.str_x(entry[0]), diagram.str_x(entry[1])))"
   ]
  },
  {
   "cell_type": "code",
   "execution_count": 14,
   "metadata": {},
   "outputs": [
    {
     "data": {
      "text/plain": [
       "'{ X, Y, f, affine(Y), ?, affine(X) }'"
      ]
     },
     "execution_count": 14,
     "metadata": {},
     "output_type": "execute_result"
    }
   ],
   "source": [
    "str(diagram)"
   ]
  },
  {
   "cell_type": "markdown",
   "metadata": {},
   "source": [
    "### Another one"
   ]
  },
  {
   "cell_type": "code",
   "execution_count": 16,
   "metadata": {},
   "outputs": [],
   "source": [
    "aff_implies_ex_R = Theorem()\n",
    "aff_implies_ex_R.add_reference(global_diagram)\n",
    "\n",
    "X = aff_implies_ex_R.create_object(Scheme, 'X')\n",
    "aff_implies_ex_R.add_data(X)\n",
    "X_is_affine = aff_implies_ex_R.apply_property(affine, [ X ])\n",
    "aff_implies_ex_R.add_condition(X_is_affine)\n",
    "\n",
    "R = aff_implies_ex_R.conclusion.create_object(Ring, 'R')\n",
    "Spec_R = aff_implies_ex_R.conclusion.apply_functor(Spec, R)\n",
    "X_is_Spec_R = aff_implies_ex_R.conclusion.create_equality(X, Spec_R)\n",
    "it_is = aff_implies_ex_R.conclusion.create_object(X_is_Spec_R)"
   ]
  },
  {
   "cell_type": "code",
   "execution_count": 17,
   "metadata": {},
   "outputs": [
    {
     "name": "stdout",
     "output_type": "stream",
     "text": [
      "X --> Y\n",
      "affine(X) --> affine(Y)\n"
     ]
    }
   ],
   "source": [
    "mapping = {}\n",
    "if aff_implies_ex_R.try_apply(diagram, mapping):\n",
    "    for entry in mapping.items():\n",
    "        print('{} --> {}'.format(aff_implies_ex_R.str_x(entry[0]), diagram.str_x(entry[1])))"
   ]
  },
  {
   "cell_type": "code",
   "execution_count": 18,
   "metadata": {},
   "outputs": [
    {
     "data": {
      "text/plain": [
       "'{ X, Y, f, affine(Y), ?, affine(X) }'"
      ]
     },
     "execution_count": 18,
     "metadata": {},
     "output_type": "execute_result"
    }
   ],
   "source": [
    "str(diagram)"
   ]
  },
  {
   "cell_type": "code",
   "execution_count": null,
   "metadata": {},
   "outputs": [],
   "source": []
  }
 ],
 "metadata": {
  "kernelspec": {
   "display_name": "Python 3",
   "language": "python",
   "name": "python3"
  },
  "language_info": {
   "codemirror_mode": {
    "name": "ipython",
    "version": 3
   },
   "file_extension": ".py",
   "mimetype": "text/x-python",
   "name": "python",
   "nbconvert_exporter": "python",
   "pygments_lexer": "ipython3",
   "version": "3.8.3"
  }
 },
 "nbformat": 4,
 "nbformat_minor": 4
}
