{
 "cells": [
  {
   "cell_type": "code",
   "execution_count": 75,
   "metadata": {},
   "outputs": [],
   "source": [
    "class Rewriter:\n",
    "    \n",
    "    def __init__(self):\n",
    "        self.rules = []\n",
    "    \n",
    "    def add_rule(self, s, t):\n",
    "        rule = (s, t)\n",
    "        self.rules.append(rule)\n",
    "    \n",
    "    def apply(self, s):\n",
    "        change = True\n",
    "        while change:\n",
    "            change = False\n",
    "            for rule in self.rules:\n",
    "                i = s.find(rule[0])\n",
    "                if i != -1:\n",
    "                    s = s[:i] + rule[1] + s[i + len(rule[0]):]\n",
    "                    change = True\n",
    "                    break\n",
    "        return s\n",
    "    \n",
    "    def critical_pairs(self, rule_1, rule_2):\n",
    "        s = rule_1[0]\n",
    "        t = rule_2[0]\n",
    "        \n",
    "        pairs = []\n",
    "        for k in range(1, len(t)):\n",
    "            if(s.endswith(t[0:k])):\n",
    "                pairs.append((rule_1[1] + t[k:], s[:-k] + rule_2[1]))\n",
    "        for k in range(1, len(s)):\n",
    "            if(t.endswith(s[0:k])):\n",
    "                pairs.append((rule_2[1] + s[k:], t[:-k] + rule_1[1]))\n",
    "\n",
    "        return pairs\n",
    "    \n",
    "    def compare(self, s, t):\n",
    "        # Use SHORT(REV?)LEX\n",
    "        d = len(s) - len(t)\n",
    "        if d != 0:\n",
    "            return d\n",
    "        \n",
    "        for i in reversed(range(len(s))):\n",
    "            d = ord(s[i]) - ord(t[i])\n",
    "            if d != 0:\n",
    "                return d\n",
    "            \n",
    "        return 0\n",
    "    \n",
    "    def knuth_bendix(self, height):        \n",
    "        updates = True\n",
    "        while updates:\n",
    "            updates = False\n",
    "            for i in range(len(self.rules)):\n",
    "                rule_i = self.rules[i]\n",
    "                for j in range(i):\n",
    "                    rule_j = self.rules[j]\n",
    "                    cpairs = self.critical_pairs(rule_i, rule_j)\n",
    "\n",
    "                    cpairs = [ (self.apply(p[0]), self.apply(p[1])) for p in cpairs ]\n",
    "                    cpairs = [ p for p in cpairs if p[0] != p[1] ]\n",
    "                    cpairs = [ ((p[1], p[0]) if self.compare(p[0], p[1]) < 0 else p) for p in cpairs ]\n",
    "\n",
    "                    if cpairs:\n",
    "                        print(\"Critical pairs from \" + str(rule_i) + \" and \" + str(rule_j) + \": \" + str(cpairs))\n",
    "\n",
    "                    for p in cpairs:\n",
    "                        if len(p[0]) <= height:                    \n",
    "                            self.add_rule(p[0], p[1])\n",
    "                            updates = True\n",
    "                            \n",
    "        # Remove obsolete rules\n",
    "        self.rules = [ rule for rule in self.rules if not self.is_obsolute(rule) ]\n",
    "        \n",
    "    def is_obsolute(self, r):\n",
    "        s = r[0]\n",
    "        \n",
    "        updates = True\n",
    "        while updates:\n",
    "            updates = False\n",
    "            for rule in self.rules:\n",
    "                if rule == r:\n",
    "                    continue\n",
    "                i = s.find(rule[0])\n",
    "                if i != -1:\n",
    "                    s = s[:i] + rule[1] + s[i + len(rule[0]):]\n",
    "                    updates = True\n",
    "                    break\n",
    "\n",
    "        return s == r[1]"
   ]
  },
  {
   "cell_type": "markdown",
   "metadata": {},
   "source": [
    "### Tests"
   ]
  },
  {
   "cell_type": "code",
   "execution_count": 76,
   "metadata": {
    "scrolled": true
   },
   "outputs": [
    {
     "name": "stdout",
     "output_type": "stream",
     "text": [
      "Critical pairs from ('ax', 'xa') and ('ba', ''): [('bxa', 'x')]\n",
      "Critical pairs from ('ax', 'xa') and ('xy', ''): [('xay', 'a')]\n",
      "Critical pairs from ('bxa', 'x') and ('ab', ''): [('bx', 'xb')]\n",
      "Critical pairs from ('xay', 'a') and ('yx', ''): [('ay', 'ya')]\n",
      "Critical pairs from ('bx', 'xb') and ('xy', ''): [('xby', 'b')]\n",
      "Critical pairs from ('ay', 'ya') and ('ba', ''): [('bya', 'y')]\n",
      "Critical pairs from ('xby', 'b') and ('yx', ''): [('by', 'yb')]\n"
     ]
    },
    {
     "data": {
      "text/plain": [
       "[('ab', ''),\n",
       " ('ba', ''),\n",
       " ('xy', ''),\n",
       " ('yx', ''),\n",
       " ('ax', 'xa'),\n",
       " ('bx', 'xb'),\n",
       " ('ay', 'ya'),\n",
       " ('by', 'yb')]"
      ]
     },
     "execution_count": 76,
     "metadata": {},
     "output_type": "execute_result"
    }
   ],
   "source": [
    "rewriter = Rewriter()\n",
    "\n",
    "rewriter.add_rule(\"ab\", \"\")\n",
    "rewriter.add_rule(\"ba\", \"\")\n",
    "rewriter.add_rule(\"xy\", \"\")\n",
    "rewriter.add_rule(\"yx\", \"\")\n",
    "rewriter.add_rule(\"ax\", \"xa\")\n",
    "\n",
    "rewriter.knuth_bendix(10)\n",
    "rewriter.rules"
   ]
  },
  {
   "cell_type": "code",
   "execution_count": 83,
   "metadata": {},
   "outputs": [
    {
     "name": "stdout",
     "output_type": "stream",
     "text": [
      "Critical pairs from ('ab', 'f') and ('xa', ''): [('xf', 'b')]\n",
      "Critical pairs from ('ab', 'f') and ('by', ''): [('fy', 'a')]\n",
      "Critical pairs from ('ba', 'f') and ('ax', ''): [('fx', 'b')]\n",
      "Critical pairs from ('ba', 'f') and ('yb', ''): [('yf', 'a')]\n",
      "Critical pairs from ('ba', 'f') and ('ab', 'f'): [('bf', 'fb'), ('af', 'fa')]\n",
      "Critical pairs from ('fx', 'b') and ('xf', 'b'): [('bx', 'xb')]\n",
      "Critical pairs from ('yf', 'a') and ('fy', 'a'): [('ay', 'ya')]\n",
      "Critical pairs from ('bx', 'xb') and ('yb', ''): [('yxb', 'x')]\n",
      "Critical pairs from ('ay', 'ya') and ('xa', ''): [('xya', 'y')]\n",
      "Critical pairs from ('yxb', 'x') and ('by', ''): [('xy', 'yx')]\n",
      "Critical pairs from ('yxb', 'x') and ('bx', 'xb'): [('yxxb', 'xx')]\n",
      "Critical pairs from ('yxxb', 'xx') and ('bx', 'xb'): [('yxxxb', 'xxx')]\n",
      "Critical pairs from ('yxxxb', 'xxx') and ('bx', 'xb'): [('yxxxxb', 'xxxx')]\n",
      "Critical pairs from ('yxxxxb', 'xxxx') and ('bx', 'xb'): [('yxxxxxb', 'xxxxx')]\n",
      "Critical pairs from ('yxxxxxb', 'xxxxx') and ('bx', 'xb'): [('yxxxxxxb', 'xxxxxx')]\n",
      "Critical pairs from ('yxxxxxxb', 'xxxxxx') and ('bx', 'xb'): [('yxxxxxxxb', 'xxxxxxx')]\n",
      "Critical pairs from ('yxxxxxxxb', 'xxxxxxx') and ('bx', 'xb'): [('yxxxxxxxxb', 'xxxxxxxx')]\n",
      "Critical pairs from ('yxxxxxxxxb', 'xxxxxxxx') and ('bx', 'xb'): [('yxxxxxxxxxb', 'xxxxxxxxx')]\n",
      "Critical pairs from ('yxxxxxxxxb', 'xxxxxxxx') and ('xy', 'yx'): [('yxxxxxxxxxb', 'xxxxxxxxx')]\n"
     ]
    },
    {
     "data": {
      "text/plain": [
       "[('ax', ''),\n",
       " ('xa', ''),\n",
       " ('by', ''),\n",
       " ('yb', ''),\n",
       " ('ab', 'f'),\n",
       " ('ba', 'f'),\n",
       " ('xf', 'b'),\n",
       " ('fy', 'a'),\n",
       " ('fx', 'b'),\n",
       " ('yf', 'a'),\n",
       " ('bf', 'fb'),\n",
       " ('af', 'fa'),\n",
       " ('bx', 'xb'),\n",
       " ('ay', 'ya'),\n",
       " ('yxb', 'x'),\n",
       " ('xy', 'yx'),\n",
       " ('yxxb', 'xx'),\n",
       " ('yxxxb', 'xxx'),\n",
       " ('yxxxxb', 'xxxx'),\n",
       " ('yxxxxxb', 'xxxxx'),\n",
       " ('yxxxxxxb', 'xxxxxx'),\n",
       " ('yxxxxxxxb', 'xxxxxxx'),\n",
       " ('yxxxxxxxxb', 'xxxxxxxx')]"
      ]
     },
     "execution_count": 83,
     "metadata": {},
     "output_type": "execute_result"
    }
   ],
   "source": [
    "rewriter = Rewriter()\n",
    "\n",
    "rewriter.add_rule(\"ax\", \"\")\n",
    "rewriter.add_rule(\"xa\", \"\")\n",
    "rewriter.add_rule(\"by\", \"\")\n",
    "rewriter.add_rule(\"yb\", \"\")\n",
    "rewriter.add_rule(\"ab\", \"f\")\n",
    "rewriter.add_rule(\"ba\", \"f\")\n",
    "\n",
    "rewriter.knuth_bendix(10)\n",
    "rewriter.rules"
   ]
  },
  {
   "cell_type": "code",
   "execution_count": 74,
   "metadata": {},
   "outputs": [
    {
     "name": "stdout",
     "output_type": "stream",
     "text": [
      "Critical pairs from ('gf', 'h') and ('fg', ''): [('hg', 'g'), ('fh', 'f')]\n",
      "Critical pairs from ('hg', 'g') and ('gf', 'h'): [('hh', 'h')]\n"
     ]
    },
    {
     "data": {
      "text/plain": [
       "[('fg', ''), ('gf', 'h'), ('hg', 'g'), ('fh', 'f'), ('hh', 'h')]"
      ]
     },
     "execution_count": 74,
     "metadata": {},
     "output_type": "execute_result"
    }
   ],
   "source": [
    "rewriter = Rewriter()\n",
    "\n",
    "rewriter.add_rule(\"fg\", \"\")\n",
    "rewriter.add_rule(\"gf\", \"h\")\n",
    "\n",
    "rewriter.knuth_bendix(10)\n",
    "rewriter.rules"
   ]
  },
  {
   "cell_type": "code",
   "execution_count": null,
   "metadata": {},
   "outputs": [],
   "source": []
  }
 ],
 "metadata": {
  "kernelspec": {
   "display_name": "Python 3",
   "language": "python",
   "name": "python3"
  },
  "language_info": {
   "codemirror_mode": {
    "name": "ipython",
    "version": 3
   },
   "file_extension": ".py",
   "mimetype": "text/x-python",
   "name": "python",
   "nbconvert_exporter": "python",
   "pygments_lexer": "ipython3",
   "version": "3.9.0"
  }
 },
 "nbformat": 4,
 "nbformat_minor": 4
}
