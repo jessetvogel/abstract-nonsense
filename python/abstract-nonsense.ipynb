{
 "cells": [
  {
   "cell_type": "markdown",
   "metadata": {},
   "source": [
    "### Notation:\n",
    "Since objects are considered morphisms (an object $X$ is identified with its identity morphism $\\text{id}_X$), we write `X, Y, Z, ...` for objects, `f, g, h, ...` for morphisms that are not objects, and `x, y, z, ...` for morphisms for which itis unknown whether they are objects / identity morphisms.\n",
    "\n",
    "Objects which are categories are denoted by `C, D, E, ...`.\n",
    "\n",
    "Functors are denoted by `F, G, H, ...`"
   ]
  },
  {
   "cell_type": "code",
   "execution_count": 1,
   "metadata": {},
   "outputs": [],
   "source": [
    "class Morphism:\n",
    "    \n",
    "    def __init__(self, category, domain, codomain):\n",
    "        self.category = category\n",
    "        self.domain = domain\n",
    "        self.codomain = codomain"
   ]
  },
  {
   "cell_type": "code",
   "execution_count": 2,
   "metadata": {},
   "outputs": [],
   "source": [
    "class Object(Morphism):\n",
    "\n",
    "    def __init__(self, category = None):\n",
    "        # Object() creates the category of categories (whose category is itself)\n",
    "        if not category:\n",
    "            category = self\n",
    "        \n",
    "        # An object is identified with its identity morphism\n",
    "        Morphism.__init__(self, category, self, self)"
   ]
  },
  {
   "cell_type": "code",
   "execution_count": 3,
   "metadata": {},
   "outputs": [],
   "source": [
    "# Do not actually need this. A Morphism f is a Functor precisely if f.category == Cat\n",
    "# Actually have a representation for opposite categories, I guess..\n",
    "\n",
    "# class Functor(Morphism):\n",
    "    \n",
    "#     def __init__(self, category, domain, codomain):\n",
    "#         Morphism.__init__(self, category, domain, codomain)"
   ]
  },
  {
   "cell_type": "code",
   "execution_count": 4,
   "metadata": {},
   "outputs": [],
   "source": [
    "class Representation:\n",
    "        \n",
    "    def __init__(self):\n",
    "        self.ptr = None\n",
    "        \n",
    "    def assign(self, ptr):\n",
    "        self.ptr = ptr\n",
    "    \n",
    "#     def replace(self, x, y): # TODO: actually, maybe just have a method 'contains'/'depends_on' or something, and then if this is the case, just recreate the representation, because it might reduce to something else!\n",
    "#         if self.ptr == x: # TODO: 'is'?\n",
    "#             self.ptr = y\n",
    "\n",
    "class Repr_Symbol(Representation):\n",
    "    \n",
    "    def __init__(self, name):\n",
    "        self.name = name\n",
    "        \n",
    "    def __eq__(self, other):\n",
    "        return self.name == other.name\n",
    "\n",
    "class Repr_Composition(Representation):\n",
    "    \n",
    "    def __init__(self, f_list):        \n",
    "        self.f_list = f_list\n",
    "    \n",
    "    def __eq__(self, other):\n",
    "        return self.f_list == other.f_list\n",
    "    \n",
    "class Repr_And(Representation):\n",
    "    \n",
    "    def __init__(self, P, Q):\n",
    "        self.P = P\n",
    "        self.Q = Q\n",
    "        \n",
    "    def __eq__(self, other):\n",
    "        return self.P == other.P and self.Q == other.Q\n",
    "        \n",
    "class Repr_Or(Representation):\n",
    "    \n",
    "    def __init__(self, P, Q):\n",
    "        self.P = P\n",
    "        self.Q = Q\n",
    "        \n",
    "    def __eq__(self, other):\n",
    "        return self.P == other.P and self.Q == other.Q\n",
    "        \n",
    "class Repr_Implies(Representation):\n",
    "    \n",
    "    def __init__(self, P, Q):\n",
    "        self.P = P\n",
    "        self.Q = Q\n",
    "        \n",
    "    def __eq__(self, other):\n",
    "        return self.P == other.P and self.Q == other.Q\n",
    "        \n",
    "class Repr_Not(Representation):\n",
    "    \n",
    "    def __init__(self, P):\n",
    "        self.P = P\n",
    "        \n",
    "    def __eq__(self, other):\n",
    "        return self.P == other.P\n",
    "        \n",
    "class Repr_Op(Representation):\n",
    "    \n",
    "    def __init__(self, C):\n",
    "        self.C = C\n",
    "        \n",
    "    def __eq__(self, other):\n",
    "        return self.C == other.C\n",
    "        \n",
    "class Repr_Functor(Representation):\n",
    "    \n",
    "    def __init__(self, F, x):\n",
    "        self.F = F\n",
    "        self.x = x\n",
    "        \n",
    "    def __eq__(self, other):\n",
    "        return self.F == other.F and self.x == other.x\n",
    "\n",
    "class Repr_Property(Representation):\n",
    "    \n",
    "    def __init__(self, prop, data):\n",
    "        self.prop = prop\n",
    "        self.data = data\n",
    "        \n",
    "    def __eq__(self, other):\n",
    "        return self.prop == other.prop and self.data == other.data\n",
    "        "
   ]
  },
  {
   "cell_type": "code",
   "execution_count": 18,
   "metadata": {},
   "outputs": [],
   "source": [
    "class Diagram:\n",
    "    \n",
    "    def __init__(self):\n",
    "        self.data = []\n",
    "        self.conditions = []\n",
    "        \n",
    "        self.morphisms = []\n",
    "        self.representations = []\n",
    "        \n",
    "    def add_data(self, X):\n",
    "        self.data.append(X)\n",
    "        self.morphisms.append(X)\n",
    "            \n",
    "    def add_condition(self, C):\n",
    "        self.conditions.append(C)\n",
    "    \n",
    "    def add_morphism(self, x):\n",
    "        self.morphisms.append(x)\n",
    "    \n",
    "    def add_representation(self, rep):\n",
    "        self.representations.append(rep)\n",
    "    \n",
    "    def find_representation(self, rep):\n",
    "        for r in self.representations:\n",
    "            if type(r) == type(rep) and r == rep:\n",
    "                return r.ptr\n",
    "                \n",
    "        return None\n",
    "    \n",
    "    def clean(self):\n",
    "        # Remove all representations and morphisms that are unnecessary (whatever that means)\n",
    "        pass\n",
    "    \n",
    "    \n",
    "    \n",
    "    # --- Non-essential methods ---\n",
    "    \n",
    "    def str_x(self, x):\n",
    "        for r in self.representations:\n",
    "            if r.ptr == x:\n",
    "                if isinstance(r, Repr_Symbol):\n",
    "                    return r.name\n",
    "                if isinstance(r, Repr_Functor):\n",
    "                    return '{}({})'.format(self.str_x(r.F), self.str_x(r.x))\n",
    "                if isinstance(r, Repr_Property):\n",
    "                    return '{}({})'.format(r.prop.name, ', '.join([ self.str_x(y) for y in r.data ]))\n",
    "                if isinstance(r, Repr_Composition):\n",
    "                    return '.'.join([ self.str_x(f) for f in r.f_list ])\n",
    "\n",
    "        return '?'\n",
    "    \n",
    "    def __str__(self):\n",
    "        return '{{ {} }}'.format(', '.join(self.str_x(x) for x in self.morphisms))"
   ]
  },
  {
   "cell_type": "code",
   "execution_count": 6,
   "metadata": {},
   "outputs": [],
   "source": [
    "class Property:\n",
    "    \n",
    "    def __init__(self, name, diagram):\n",
    "        self.name = name\n",
    "        self.diagram = diagram"
   ]
  },
  {
   "cell_type": "code",
   "execution_count": 7,
   "metadata": {},
   "outputs": [],
   "source": [
    "class Theorem:\n",
    "    \n",
    "    pass"
   ]
  },
  {
   "cell_type": "code",
   "execution_count": 8,
   "metadata": {},
   "outputs": [],
   "source": [
    "class Instruction:\n",
    "    \n",
    "    pass"
   ]
  },
  {
   "cell_type": "code",
   "execution_count": 9,
   "metadata": {},
   "outputs": [],
   "source": [
    "class Condition:\n",
    "    \n",
    "    pass"
   ]
  },
  {
   "cell_type": "code",
   "execution_count": 10,
   "metadata": {},
   "outputs": [],
   "source": [
    "class Factory:\n",
    "    \n",
    "    def __init__(self, diagram):\n",
    "        self.diagram = diagram\n",
    "    \n",
    "    def create_object(self, name, C):\n",
    "        # C must be a category\n",
    "        if(C.category != Cat):\n",
    "            raise Exception('That is not a category!')\n",
    "        \n",
    "        # Create representation\n",
    "        rep = Repr_Symbol(name)\n",
    "        \n",
    "        # If the representation already exists in the diagram, raise an exception\n",
    "        if self.diagram.find_representation(rep):\n",
    "            raise Exception('Name \\'{}\\' is already used!'.format(name))\n",
    "        \n",
    "        # Construct new object\n",
    "        X = Object(C)\n",
    "        \n",
    "        # Assign to representation, and add to the diagram\n",
    "        rep.assign(X)\n",
    "        self.diagram.add_morphism(X)\n",
    "        self.diagram.add_representation(rep)\n",
    "        \n",
    "        return X\n",
    "    \n",
    "    def create_morphism(self, name, X, Y):\n",
    "        # The categories of X and Y must be equal\n",
    "        if X.category != Y.category:\n",
    "            raise Exception('Cannot construct a morphism between objects of different categories!')\n",
    "\n",
    "        # Create representation\n",
    "        rep = Repr_Symbol(name)\n",
    "        \n",
    "        # If the representation already exists in the diagram, raise an exception\n",
    "        if self.diagram.find_representation(rep):\n",
    "            raise Exception('Name \\'{}\\' is already used!'.format(name))\n",
    "        \n",
    "        # Construct new morphism\n",
    "        f = Morphism(X.category, X, Y)\n",
    "        \n",
    "        # Assign to representation, and add to the diagram\n",
    "        rep.assign(f)\n",
    "        self.diagram.add_morphism(f)\n",
    "        self.diagram.add_representation(rep)\n",
    "        \n",
    "        return f\n",
    "        \n",
    "    def create_composition(self, f_list):\n",
    "        # There must be at least one morphism\n",
    "        if not f_list:\n",
    "            raise Exception('Composition requires morphisms!')\n",
    "\n",
    "        # Obtain domain / codomain\n",
    "        X, Y = f_list[-1].domain, f_list[0].codomain\n",
    "        \n",
    "        # All morphisms must connect\n",
    "        n = len(f_list)\n",
    "        for i in range(n - 1):\n",
    "            if f_list[i].domain != f_list[i + 1].codomain:\n",
    "                raise Exception('Morphisms do not connect well!')\n",
    "            \n",
    "        # Remove all identity morphisms from the list\n",
    "        f_list = [ f for f in f_list if not isinstance(f, Object) ]\n",
    "        \n",
    "        # If the list is empty now, then the result would have been id(X) = id(Y)\n",
    "        n = len(f_list)\n",
    "        if n == 0:\n",
    "            return X\n",
    "        \n",
    "        # If there is only one morphism to compose, just return that morphism\n",
    "        if n == 1:\n",
    "            return f_list[0]\n",
    "        \n",
    "        # Create representation\n",
    "        rep = Repr_Composition(f_list)\n",
    "        \n",
    "        # Check if the representation already exists in the diagram, and if so, return the morphism it points to\n",
    "        g = self.diagram.find_representation(rep)\n",
    "        if g:\n",
    "            return g\n",
    "\n",
    "        # Construct new object/morphism\n",
    "        g = Morphism(X.category, X, Y)\n",
    "        \n",
    "        # Assign, and add morphism and representation to the diagram\n",
    "        rep.assign(g)\n",
    "        self.diagram.add_morphism(g)\n",
    "        self.diagram.add_representation(rep)\n",
    "        \n",
    "        return g\n",
    "    \n",
    "    def apply_functor(self, F, x):\n",
    "        # x must belong to the domain category of the functor\n",
    "        if(x.category != F.domain): # TODO: change this to a 'belongs to'-method (some trivial coercion might occur, e.g. R in Ring^op)\n",
    "            raise Exception('Object/morphism does not belong to functor domain!')\n",
    "        \n",
    "        # Create representation\n",
    "        rep = Repr_Functor(F, x)\n",
    "        \n",
    "        # Check if the representation already exists in the diagram, and if so, return the morphism it points to\n",
    "        F_x = self.diagram.find_representation(rep)\n",
    "        if F_x:\n",
    "            return F_x\n",
    "        \n",
    "        # Construct new object/morphism\n",
    "        if isinstance(x, Object):        \n",
    "            F_x = Object(F.codomain)\n",
    "        else:\n",
    "            X = x.domain\n",
    "            Y = x.codomain\n",
    "            F_X = self.apply_functor(F, X)\n",
    "            F_Y = self.apply_functor(F, Y)\n",
    "            F_x = Morphism(F.codomain, F_X, F_Y)\n",
    "        \n",
    "        # Assign, and add morphism and representation to the diagram\n",
    "        rep.assign(F_x)\n",
    "        self.diagram.add_morphism(F_x)\n",
    "        self.diagram.add_representation(rep)\n",
    "        \n",
    "        return F_x\n",
    "    \n",
    "    def apply_property(self, prop, data):\n",
    "        # TODO: Check if the data satisfies the diagram of the property. If not, return Null / None / False, or something like that\n",
    "\n",
    "        # Create representation\n",
    "        rep = Repr_Property(prop, data)\n",
    "\n",
    "        # Check if this representation already exists somewhere!\n",
    "        C = self.diagram.find_representation(rep)\n",
    "        if C:\n",
    "            return C        \n",
    "        \n",
    "        # Construct new category\n",
    "        C = Object(Cat)\n",
    "    \n",
    "        # Assign, and add object and representation to the diagram\n",
    "        rep.assign(C)\n",
    "        self.diagram.add_morphism(C)\n",
    "        self.diagram.add_representation(rep)\n",
    "    \n",
    "        return C"
   ]
  },
  {
   "cell_type": "markdown",
   "metadata": {},
   "source": [
    "### Core objects"
   ]
  },
  {
   "cell_type": "code",
   "execution_count": 11,
   "metadata": {},
   "outputs": [],
   "source": [
    "Cat = Object()\n",
    "\n",
    "_0 = Object(Cat)\n",
    "_1 = Object(Cat)"
   ]
  },
  {
   "cell_type": "markdown",
   "metadata": {},
   "source": [
    "### Examples"
   ]
  },
  {
   "cell_type": "code",
   "execution_count": 21,
   "metadata": {},
   "outputs": [],
   "source": [
    "global_diagram = Diagram()\n",
    "global_factory = Factory(global_diagram)\n",
    "\n",
    "# Define in global diagram\n",
    "Ring_op = global_factory.create_object('Ring\\'', Cat) # Ring' : Cat\n",
    "Scheme = global_factory.create_object('Scheme', Cat) # Scheme : Cat\n",
    "\n",
    "Spec = global_factory.create_morphism('Spec', Ring_op, Scheme) # Spec : Ring' -> Scheme\n",
    "Mod = global_factory.create_morphism('Mod', Ring_op, Cat) # Mod : Ring' -> Cat\n",
    "\n",
    "R = global_factory.create_object('R', Ring_op) # R : Ring'\n",
    "R_Mod = global_factory.apply_functor(Mod, R) # Mod(R)\n",
    "\n",
    "# Property affine : diagram (Actually, lets say one needs to define the diagram after saying what the properties name is? That prevents someone from altering a diagram after it is being used. Think about the syntax in that case.)\n",
    "diagram = Diagram()\n",
    "factory = Factory(diagram)\n",
    "X = factory.create_object('X', Scheme)\n",
    "affine = Property('affine', diagram)\n",
    "\n",
    "diagram = Diagram()\n",
    "factory = Factory(diagram)\n",
    "\n",
    "X = factory.create_object('X', Scheme) # X : Scheme\n",
    "Y = factory.create_object('Y', Scheme) # Y : Scheme\n",
    "f = factory.create_morphism('f', X, Y) # f : X -> Y\n",
    "\n",
    "X_is_affine = factory.apply_property(affine, [ X ]) # affine(X)\n"
   ]
  },
  {
   "cell_type": "code",
   "execution_count": 22,
   "metadata": {
    "scrolled": false
   },
   "outputs": [
    {
     "data": {
      "text/plain": [
       "\"{ Ring', Scheme, Spec, Mod, R, Mod(R) }\""
      ]
     },
     "execution_count": 22,
     "metadata": {},
     "output_type": "execute_result"
    }
   ],
   "source": [
    "str(global_diagram)"
   ]
  },
  {
   "cell_type": "code",
   "execution_count": 23,
   "metadata": {},
   "outputs": [
    {
     "data": {
      "text/plain": [
       "'{ X, Y, f, affine(X) }'"
      ]
     },
     "execution_count": 23,
     "metadata": {},
     "output_type": "execute_result"
    }
   ],
   "source": [
    "str(diagram)"
   ]
  },
  {
   "cell_type": "code",
   "execution_count": 25,
   "metadata": {},
   "outputs": [],
   "source": [
    "diagram = Diagram()\n",
    "factory = Factory(diagram)\n",
    "\n",
    "A = factory.create_object('A', Ring_op)\n",
    "B = factory.create_object('B', Ring_op)\n",
    "C = factory.create_object('C', Ring_op)\n",
    "f = factory.create_morphism('f', A, B)\n",
    "g = factory.create_morphism('g', B, C)\n",
    "h = factory.create_morphism('h', B, B)\n",
    "\n",
    "gf = factory.create_composition([ g, h, f ])\n",
    "\n",
    "Spec_f = factory.apply_functor(Spec, f)"
   ]
  },
  {
   "cell_type": "code",
   "execution_count": 26,
   "metadata": {},
   "outputs": [
    {
     "data": {
      "text/plain": [
       "'{ A, B, C, f, g, h, g.h.f, ?(A), ?(B), ?(f) }'"
      ]
     },
     "execution_count": 26,
     "metadata": {},
     "output_type": "execute_result"
    }
   ],
   "source": [
    "str(diagram)"
   ]
  },
  {
   "cell_type": "code",
   "execution_count": null,
   "metadata": {},
   "outputs": [],
   "source": []
  }
 ],
 "metadata": {
  "kernelspec": {
   "display_name": "Python 3",
   "language": "python",
   "name": "python3"
  },
  "language_info": {
   "codemirror_mode": {
    "name": "ipython",
    "version": 3
   },
   "file_extension": ".py",
   "mimetype": "text/x-python",
   "name": "python",
   "nbconvert_exporter": "python",
   "pygments_lexer": "ipython3",
   "version": "3.8.3"
  }
 },
 "nbformat": 4,
 "nbformat_minor": 4
}
